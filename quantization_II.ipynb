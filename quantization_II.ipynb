{
 "cells": [
  {
   "cell_type": "markdown",
   "id": "ddc8514d",
   "metadata": {},
   "source": [
    "## Quantization II \n",
    "\n",
    "In this notebook, we want to be able to transform a deep network into a quantizied one. \n",
    "\n",
    "We will first try to implement quantization functions. "
   ]
  },
  {
   "cell_type": "code",
   "execution_count": null,
   "id": "89c86e31",
   "metadata": {},
   "outputs": [],
   "source": []
  },
  {
   "cell_type": "markdown",
   "id": "81fe5983",
   "metadata": {},
   "source": [
    "Implement a function named **to_int8(tensor: np.array, real_range: list) -> np.array**"
   ]
  },
  {
   "cell_type": "code",
   "execution_count": null,
   "id": "8d8195df",
   "metadata": {},
   "outputs": [],
   "source": []
  },
  {
   "cell_type": "markdown",
   "id": "f71c2a27",
   "metadata": {},
   "source": [
    "implement a function named **to_real(int8_tensor: np.array, rangeà -> np.array**"
   ]
  },
  {
   "cell_type": "code",
   "execution_count": null,
   "id": "23db697d",
   "metadata": {},
   "outputs": [],
   "source": []
  },
  {
   "cell_type": "markdown",
   "id": "b0812d14",
   "metadata": {},
   "source": [
    "Try to quantize and dequantize a random vector. Use a real range of -1, 1. How does it work for values outside the range ?"
   ]
  },
  {
   "cell_type": "code",
   "execution_count": null,
   "id": "375a86d3",
   "metadata": {},
   "outputs": [],
   "source": []
  },
  {
   "cell_type": "markdown",
   "id": "450dc3eb",
   "metadata": {},
   "source": [
    "You may think, oh so let's just take a very big range so that we do not face this problem. Using the same real vector, do the same thing with a range of -1000, 1000. Does it work ? "
   ]
  },
  {
   "cell_type": "code",
   "execution_count": null,
   "id": "064b8ad1",
   "metadata": {},
   "outputs": [],
   "source": []
  },
  {
   "cell_type": "markdown",
   "id": "4b6d0da0",
   "metadata": {},
   "source": [
    "Try to compute the matrix multiplication of two int8 quantized matrix and display the result. Is the result necesseraly int8 ?  "
   ]
  },
  {
   "cell_type": "code",
   "execution_count": null,
   "id": "16e1a918",
   "metadata": {},
   "outputs": [],
   "source": []
  },
  {
   "cell_type": "markdown",
   "id": "d10de781",
   "metadata": {},
   "source": [
    "Try to dequantize it the matrix product and compare it to the direct product of the real matrix multiplication.  Does it work ?"
   ]
  },
  {
   "cell_type": "code",
   "execution_count": null,
   "id": "0141b8b9",
   "metadata": {},
   "outputs": [],
   "source": []
  },
  {
   "cell_type": "markdown",
   "id": "e256b3d4",
   "metadata": {},
   "source": [
    "## Part 2 \n",
    "\n",
    "In this part we want to build a function that statically quantize a simple pretrained pytorch network. \n",
    "\n",
    "Here is a simple network\n",
    "\n"
   ]
  },
  {
   "cell_type": "code",
   "execution_count": null,
   "id": "a4a437b7",
   "metadata": {},
   "outputs": [],
   "source": [
    "class SimpleMnistClassifier(nn.Module):\n",
    "    \n",
    "    def __init__(self):\n",
    "        \n",
    "        self.layer1 = nn.Linear(28**2, 400)\n",
    "        self.layer2 = nn.Linear(400, 200)\n",
    "        self.layer3 = nn.Linear(200, 10)\n",
    "        \n",
    "    def forward(self, x):\n",
    "        \n",
    "        o = self.layer1(x)\n",
    "        o = F.relu(o)\n",
    "        o = self.layer2(o)\n",
    "        o = self.relu(o)\n",
    "        o = self.layer3(o)\n",
    "        \n",
    "        return o\n",
    "    \n",
    "    \n"
   ]
  },
  {
   "cell_type": "markdown",
   "id": "cd38bbc9",
   "metadata": {},
   "source": [
    "Load the mnist dataset and train the network on it. Fix it a bit if the performance is not ok (< 80%) by adding more layers for instance. "
   ]
  },
  {
   "cell_type": "code",
   "execution_count": null,
   "id": "068f2db1",
   "metadata": {},
   "outputs": [],
   "source": []
  },
  {
   "cell_type": "markdown",
   "id": "92040c27",
   "metadata": {},
   "source": [
    "Compute the accuracy of the model "
   ]
  },
  {
   "cell_type": "code",
   "execution_count": null,
   "id": "70b5ac5b",
   "metadata": {},
   "outputs": [],
   "source": []
  },
  {
   "cell_type": "markdown",
   "id": "60fb62fc",
   "metadata": {},
   "source": [
    "create a function **quantize_linear_layer(layer: nn.Linear)**  which quantize the layer parameters and return them. "
   ]
  },
  {
   "cell_type": "code",
   "execution_count": null,
   "id": "62cddf41",
   "metadata": {},
   "outputs": [],
   "source": [
    "def quantize_linear_layer(layer: nn.Linear):\n",
    "    \n",
    "    \n",
    "        "
   ]
  },
  {
   "cell_type": "markdown",
   "id": "b2987eb2",
   "metadata": {},
   "source": [
    "create a function quantize_network(nn.Module) -> nn.Module which take a network apply the quantization on each layer"
   ]
  },
  {
   "cell_type": "code",
   "execution_count": null,
   "id": "2422cff8",
   "metadata": {},
   "outputs": [],
   "source": [
    "def quantize_network(model: nn.Module):\n",
    "    \n",
    " "
   ]
  },
  {
   "cell_type": "markdown",
   "id": "9bec5c51",
   "metadata": {},
   "source": [
    "create a function quantized_model_predict(X, quantized_data) which compute the prediction of the quantized model. Do not forget activitation functions ! "
   ]
  },
  {
   "cell_type": "code",
   "execution_count": null,
   "id": "c4bd3838",
   "metadata": {},
   "outputs": [],
   "source": []
  },
  {
   "cell_type": "markdown",
   "id": "7acda7c0",
   "metadata": {},
   "source": [
    "Compute the accuracy of the quantized model "
   ]
  },
  {
   "cell_type": "code",
   "execution_count": null,
   "id": "8a6b5116",
   "metadata": {},
   "outputs": [],
   "source": []
  }
 ],
 "metadata": {
  "kernelspec": {
   "display_name": "Python 3 (ipykernel)",
   "language": "python",
   "name": "python3"
  },
  "language_info": {
   "codemirror_mode": {
    "name": "ipython",
    "version": 3
   },
   "file_extension": ".py",
   "mimetype": "text/x-python",
   "name": "python",
   "nbconvert_exporter": "python",
   "pygments_lexer": "ipython3",
   "version": "3.9.9"
  }
 },
 "nbformat": 4,
 "nbformat_minor": 5
}
